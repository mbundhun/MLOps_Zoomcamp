{
 "cells": [
  {
   "cell_type": "code",
   "execution_count": null,
   "metadata": {},
   "outputs": [],
   "source": [
    "# Tip 1:\n",
    "# For different projects, create different environments.\n",
    "# Because you may need different packages versions, and this may mess with you main system\n",
    "# e.g. conda create -n exp-tracking-env python=3.9\n",
    "# Then activate the environment: conda activate exp-tracking-env       "
   ]
  },
  {
   "cell_type": "code",
   "execution_count": null,
   "metadata": {},
   "outputs": [],
   "source": [
    "# mlflow ui --backend-store-uri sqlite:///mlflow.db"
   ]
  }
 ],
 "metadata": {
  "language_info": {
   "name": "python"
  }
 },
 "nbformat": 4,
 "nbformat_minor": 2
}
