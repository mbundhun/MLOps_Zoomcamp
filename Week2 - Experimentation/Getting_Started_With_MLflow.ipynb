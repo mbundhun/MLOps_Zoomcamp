{
 "cells": [
  {
   "cell_type": "code",
   "execution_count": null,
   "metadata": {},
   "outputs": [],
   "source": [
    "# Tip 1:\n",
    "# For different projects, create different environments.\n",
    "# Because you may need different packages versions, and this may mess with you main system\n",
    "# e.g. conda create -n exp-tracking-env python=3.9\n",
    "# Then activate the environment: conda activate exp-tracking-env       "
   ]
  }
 ],
 "metadata": {
  "language_info": {
   "name": "python"
  }
 },
 "nbformat": 4,
 "nbformat_minor": 2
}
